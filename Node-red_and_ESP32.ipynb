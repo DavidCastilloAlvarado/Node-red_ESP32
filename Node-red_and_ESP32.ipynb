{
 "cells": [
  {
   "cell_type": "markdown",
   "metadata": {},
   "source": [
    "# NODE-RED.JS and ESP32\n",
    "![Kernel & front-end diagram](images/node_red.png)"
   ]
  },
  {
   "cell_type": "markdown",
   "metadata": {},
   "source": [
    "This tutorial is about how to implement a simple Node-Red.js and a litle ESP32 microcontroller, sending data gotten from a MPU6050."
   ]
  },
  {
   "cell_type": "markdown",
   "metadata": {},
   "source": [
    "### 1.Install Node-red.js\n",
    "You need a server machine where you will put the Node-red, in this case, we used a VM with ubuntu. Tradicionaly does with raspbian into a Raspberry Pi. "
   ]
  },
  {
   "cell_type": "markdown",
   "metadata": {},
   "source": [
    "https://www.digitalocean.com/community/tutorials/how-to-connect-your-internet-of-things-with-node-red-on-ubuntu-16-04"
   ]
  },
  {
   "cell_type": "markdown",
   "metadata": {},
   "source": [
    "### 2.Install the Dashboard in Node-RedJS"
   ]
  },
  {
   "cell_type": "markdown",
   "metadata": {},
   "source": [
    "### 3.Configure your node-red \n",
    "Import into your own node-red enviorment. "
   ]
  },
  {
   "cell_type": "code",
   "execution_count": null,
   "metadata": {},
   "outputs": [],
   "source": [
    "[{\"id\":\"81841f34.acd99\",\"type\":\"mqtt in\",\"z\":\"bb76fc80.9cdf2\",\"name\":\"\",\"topic\":\"acelerometro/ax\",\"qos\":\"1\",\"broker\":\"14cfeaa5.f1dd55\",\"x\":160,\"y\":200,\"wires\":[[\"aabc1d11.33911\"]]},{\"id\":\"c8ac074c.6c2608\",\"type\":\"mqtt in\",\"z\":\"bb76fc80.9cdf2\",\"name\":\"\",\"topic\":\"acelerometro/ay\",\"qos\":\"2\",\"broker\":\"14cfeaa5.f1dd55\",\"x\":160,\"y\":380,\"wires\":[[\"fce7ec5f.82657\"]]},{\"id\":\"72781880.98f388\",\"type\":\"mqtt in\",\"z\":\"bb76fc80.9cdf2\",\"name\":\"\",\"topic\":\"acelerometro/az\",\"qos\":\"2\",\"broker\":\"14cfeaa5.f1dd55\",\"x\":160,\"y\":600,\"wires\":[[\"1cb47c62.eb1c74\"]]},{\"id\":\"b51121b5.dc6d1\",\"type\":\"ui_gauge\",\"z\":\"bb76fc80.9cdf2\",\"name\":\"\",\"group\":\"464fc01b.ca74f\",\"order\":0,\"width\":\"6\",\"height\":\"3\",\"gtype\":\"gage\",\"title\":\"\",\"label\":\"m/s2\",\"format\":\"{{value}}\",\"min\":\"-10\",\"max\":\"10\",\"colors\":[\"#ffff00\",\"#0000a0\",\"#ff0000\"],\"seg1\":\"\",\"seg2\":\"\",\"x\":690,\"y\":180,\"wires\":[]},{\"id\":\"987f830e.ad5ed\",\"type\":\"ui_chart\",\"z\":\"bb76fc80.9cdf2\",\"name\":\"Aceler_X chart\",\"group\":\"464fc01b.ca74f\",\"order\":0,\"width\":\"6\",\"height\":\"4\",\"label\":\"Aceler X [m/s2]\",\"chartType\":\"line\",\"legend\":\"false\",\"xformat\":\"ss\",\"interpolate\":\"linear\",\"nodata\":\"\",\"dot\":false,\"ymin\":\"-12\",\"ymax\":\"12\",\"removeOlder\":\"5\",\"removeOlderPoints\":\"50\",\"removeOlderUnit\":\"1\",\"cutout\":0,\"useOneColor\":false,\"colors\":[\"#1f77b4\",\"#aec7e8\",\"#ff7f0e\",\"#2ca02c\",\"#98df8a\",\"#d62728\",\"#ff9896\",\"#cd1b1b\",\"#c5b0d5\"],\"useOldStyle\":false,\"x\":720,\"y\":240,\"wires\":[[],[]]},{\"id\":\"d67b1560.7f1848\",\"type\":\"ui_gauge\",\"z\":\"bb76fc80.9cdf2\",\"name\":\"\",\"group\":\"f7f85ebe.e7e6c\",\"order\":0,\"width\":\"6\",\"height\":\"3\",\"gtype\":\"gage\",\"title\":\"\",\"label\":\"m/s2\",\"format\":\"{{value}}\",\"min\":\"-10\",\"max\":\"10\",\"colors\":[\"#ffff00\",\"#0000a0\",\"#ff0000\"],\"seg1\":\"\",\"seg2\":\"\",\"x\":670,\"y\":360,\"wires\":[]},{\"id\":\"f4a857df.80dc58\",\"type\":\"ui_chart\",\"z\":\"bb76fc80.9cdf2\",\"name\":\"Aceler_Y chart\",\"group\":\"f7f85ebe.e7e6c\",\"order\":0,\"width\":\"6\",\"height\":\"4\",\"label\":\"Aceler Y [m/s2]\",\"chartType\":\"line\",\"legend\":\"false\",\"xformat\":\"ss\",\"interpolate\":\"linear\",\"nodata\":\"\",\"dot\":false,\"ymin\":\"-12\",\"ymax\":\"12\",\"removeOlder\":\"5\",\"removeOlderPoints\":\"50\",\"removeOlderUnit\":\"1\",\"cutout\":0,\"useOneColor\":false,\"colors\":[\"#021f33\",\"#aec7e8\",\"#ff7f0e\",\"#2ca02c\",\"#98df8a\",\"#d62728\",\"#ff9896\",\"#9467bd\",\"#c5b0d5\"],\"useOldStyle\":false,\"x\":680,\"y\":420,\"wires\":[[],[]]},{\"id\":\"4071bac2.2b0554\",\"type\":\"ui_gauge\",\"z\":\"bb76fc80.9cdf2\",\"name\":\"\",\"group\":\"40d6c8eb.0b58f8\",\"order\":0,\"width\":\"6\",\"height\":\"3\",\"gtype\":\"gage\",\"title\":\"\",\"label\":\"m/s2\",\"format\":\"{{value}}\",\"min\":\"-10\",\"max\":\"10\",\"colors\":[\"#ffff00\",\"#0000a0\",\"#ff0000\"],\"seg1\":\"\",\"seg2\":\"\",\"x\":650,\"y\":580,\"wires\":[]},{\"id\":\"66865416.572c1c\",\"type\":\"ui_chart\",\"z\":\"bb76fc80.9cdf2\",\"name\":\"Aceler_Z chart\",\"group\":\"40d6c8eb.0b58f8\",\"order\":0,\"width\":\"6\",\"height\":\"4\",\"label\":\"Aceler Z [m/s2]\",\"chartType\":\"line\",\"legend\":\"false\",\"xformat\":\"ss\",\"interpolate\":\"linear\",\"nodata\":\"\",\"dot\":false,\"ymin\":\"-12\",\"ymax\":\"12\",\"removeOlder\":\"5\",\"removeOlderPoints\":\"50\",\"removeOlderUnit\":\"1\",\"cutout\":0,\"useOneColor\":false,\"colors\":[\"#d2632b\",\"#aec7e8\",\"#ff7f0e\",\"#2ca02c\",\"#98df8a\",\"#d62728\",\"#ff9896\",\"#9467bd\",\"#c5b0d5\"],\"useOldStyle\":false,\"x\":680,\"y\":640,\"wires\":[[],[]]},{\"id\":\"63b91a08.eb80f4\",\"type\":\"ui_text\",\"z\":\"bb76fc80.9cdf2\",\"group\":\"13f38b70.f69425\",\"order\":0,\"width\":\"0\",\"height\":\"0\",\"name\":\"\",\"label\":\"Aceleración X: \",\"format\":\"{{msg.payload}}\",\"layout\":\"row-spread\",\"x\":680,\"y\":120,\"wires\":[]},{\"id\":\"44d6218a.255be\",\"type\":\"ui_text\",\"z\":\"bb76fc80.9cdf2\",\"group\":\"13f38b70.f69425\",\"order\":0,\"width\":0,\"height\":0,\"name\":\"\",\"label\":\"Aceleración Y: \",\"format\":\"{{msg.payload}}\",\"layout\":\"row-spread\",\"x\":690,\"y\":320,\"wires\":[]},{\"id\":\"f12dec68.95c6e\",\"type\":\"ui_text\",\"z\":\"bb76fc80.9cdf2\",\"group\":\"13f38b70.f69425\",\"order\":0,\"width\":0,\"height\":0,\"name\":\"\",\"label\":\"Aceleración Z: \",\"format\":\"{{msg.payload}}\",\"layout\":\"row-spread\",\"x\":690,\"y\":540,\"wires\":[]},{\"id\":\"aabc1d11.33911\",\"type\":\"function\",\"z\":\"bb76fc80.9cdf2\",\"name\":\"filtro x\",\"func\":\"//var x=  msg.payload*0.9975-0.4239;\\n//msg.payload = x.toFixed(2);\\nreturn msg;\",\"outputs\":1,\"noerr\":0,\"x\":330,\"y\":200,\"wires\":[[\"b51121b5.dc6d1\",\"63b91a08.eb80f4\",\"987f830e.ad5ed\"]]},{\"id\":\"fce7ec5f.82657\",\"type\":\"function\",\"z\":\"bb76fc80.9cdf2\",\"name\":\"filtro y\",\"func\":\"y =  msg.payload*0.9949+0.2985;\\nmsg.payload = y.toFixed(2); // trunca 2 decimales\\nreturn msg;\",\"outputs\":1,\"noerr\":0,\"x\":310,\"y\":380,\"wires\":[[\"d67b1560.7f1848\",\"44d6218a.255be\",\"f4a857df.80dc58\"]]},{\"id\":\"1cb47c62.eb1c74\",\"type\":\"function\",\"z\":\"bb76fc80.9cdf2\",\"name\":\"filtro z\",\"func\":\"z =  msg.payload*0.9776+1.0998;\\nmsg.payload = z.toFixed(2);\\nreturn msg;\",\"outputs\":1,\"noerr\":0,\"x\":310,\"y\":580,\"wires\":[[\"4071bac2.2b0554\",\"f12dec68.95c6e\",\"66865416.572c1c\"]]},{\"id\":\"14cfeaa5.f1dd55\",\"type\":\"mqtt-broker\",\"z\":\"\",\"name\":\"\",\"broker\":\"192.168.0.104\",\"port\":\"1883\",\"clientid\":\"\",\"usetls\":false,\"compatmode\":true,\"keepalive\":\"60\",\"cleansession\":true,\"birthTopic\":\"\",\"birthQos\":\"0\",\"birthPayload\":\"\",\"closeTopic\":\"\",\"closeQos\":\"0\",\"closePayload\":\"\",\"willTopic\":\"\",\"willQos\":\"0\",\"willPayload\":\"\"},{\"id\":\"464fc01b.ca74f\",\"type\":\"ui_group\",\"z\":\"\",\"name\":\"Axis x\",\"tab\":\"4f624ae6.434ba4\",\"order\":1,\"disp\":true,\"width\":\"6\",\"collapse\":false},{\"id\":\"f7f85ebe.e7e6c\",\"type\":\"ui_group\",\"z\":\"\",\"name\":\"Axis y\",\"tab\":\"4f624ae6.434ba4\",\"order\":2,\"disp\":true,\"width\":\"6\",\"collapse\":false},{\"id\":\"40d6c8eb.0b58f8\",\"type\":\"ui_group\",\"z\":\"\",\"name\":\"Axis z\",\"tab\":\"4f624ae6.434ba4\",\"order\":3,\"disp\":true,\"width\":\"6\",\"collapse\":false},{\"id\":\"13f38b70.f69425\",\"type\":\"ui_group\",\"z\":\"\",\"name\":\"Lecturas MPU\",\"tab\":\"5d40ae0.9e6ed54\",\"order\":1,\"disp\":true,\"width\":\"6\",\"collapse\":false},{\"id\":\"4f624ae6.434ba4\",\"type\":\"ui_tab\",\"z\":\"\",\"name\":\"MPU6050\",\"icon\":\"dashboard\",\"order\":1},{\"id\":\"5d40ae0.9e6ed54\",\"type\":\"ui_tab\",\"z\":\"\",\"name\":\"MPU6050 Movil\",\"icon\":\"dashboard\",\"order\":4}]"
   ]
  },
  {
   "cell_type": "markdown",
   "metadata": {},
   "source": [
    "![Kernel & front-end diagram](images/red2.png)"
   ]
  },
  {
   "cell_type": "markdown",
   "metadata": {},
   "source": [
    "### 3. Always keep the same IP\n",
    "The server and the client, need to have an IP-static. "
   ]
  },
  {
   "cell_type": "markdown",
   "metadata": {},
   "source": [
    "### 4.Program for the ESP32\n",
    "Download from this link bellow\n",
    "\n",
    "https://github.com/espressif/arduino-esp32\n",
    "### Development Status\n",
    "Most of the framework is implemented. Most noticable is the missing analogWrite. While analogWrite is on it's way, there are a few other options that you can use:\n",
    "\n",
    "16 channels LEDC which is PWM\n",
    "\n",
    "8 channels SigmaDelta which uses SigmaDelta modulation\n",
    "\n",
    "2 channels DAC which gives real analog output\n",
    "\n",
    "\n",
    "![Kernel & front-end diagram](images/ESP32.png)\n",
    "![Kernel & front-end diagram](images/mpu6050.png)"
   ]
  },
  {
   "cell_type": "markdown",
   "metadata": {},
   "source": [
    "### Libraries"
   ]
  },
  {
   "cell_type": "code",
   "execution_count": null,
   "metadata": {},
   "outputs": [],
   "source": [
    "#include \"Wire.h\"\n",
    "\n",
    "#include \"math.h\"\n",
    "\n",
    "#include \"Adafruit_MQTT.h\"\n",
    "#include \"Adafruit_MQTT_Client.h\"\n",
    "#include <WiFi.h>"
   ]
  },
  {
   "cell_type": "markdown",
   "metadata": {},
   "source": [
    "### Define variables for the MPU 6050"
   ]
  },
  {
   "cell_type": "code",
   "execution_count": null,
   "metadata": {},
   "outputs": [],
   "source": [
    "/*--------------------------MPU 6050---------------------------------*/\n",
    "// La dirección del MPU6050 puede ser 0x68 o 0x69, dependiendo \n",
    "// del estado de AD0. Si no se especifica, 0x68 estará implicito\n",
    "//MPU6050 sensor_ang;\n",
    "// Valores RAW (sin procesar) del acelerometro y giroscopio en los ejes x,y,z\n",
    "#define SDA 4\n",
    "#define SCL 15\n",
    "const int MPU_addr=0x68; // I2C address of the MPU-6050\n",
    "\n",
    "int16_t ax, ay, az;\n",
    "int16_t gx, gy, gz, Tmp;\n",
    "double ax_d, ay_d, az_d;\n",
    "double  ang_x, ang_y;\n",
    "float ang_x_prev, ang_y_prev;\n",
    "long tiempo_prev;\n",
    "float dt;\n",
    "int d_max;\n",
    "float accel_ang_y,accel_ang_x; "
   ]
  },
  {
   "cell_type": "markdown",
   "metadata": {},
   "source": [
    "### Define constants for the comunication betwen the Node-red server and ESP 32"
   ]
  },
  {
   "cell_type": "code",
   "execution_count": null,
   "metadata": {},
   "outputs": [],
   "source": [
    "#define WLAN_SSID   \"xxxxxxxxxxx\"\n",
    "#define WLAN_PASS   \"xxxxxxxxxxx\"\n",
    "\n",
    "//MQTT broker settings https://proyectoinfo.mybluemix.net\n",
    "#define HOST        \"192.168.0.104\"\n",
    "#define PORT        1883\n",
    "#define USERNAME    \"linux\"\n",
    "#define PASSWORD    \"linux\"\n",
    "\n",
    "//time out loop count\n",
    "const int timeout = 200;"
   ]
  },
  {
   "cell_type": "markdown",
   "metadata": {},
   "source": [
    "### Setting up the inputs to the server"
   ]
  },
  {
   "cell_type": "code",
   "execution_count": null,
   "metadata": {},
   "outputs": [],
   "source": [
    "WiFiClient client;\n",
    "Adafruit_MQTT_Client mqtt(&client, HOST, PORT, USERNAME, PASSWORD);\n",
    "Adafruit_MQTT_Publish acelera_x = Adafruit_MQTT_Publish(&mqtt, \"acelerometro/ax\");\n",
    "Adafruit_MQTT_Publish acelera_y = Adafruit_MQTT_Publish(&mqtt, \"acelerometro/ay\");\n",
    "Adafruit_MQTT_Publish acelera_z = Adafruit_MQTT_Publish(&mqtt, \"acelerometro/az\");"
   ]
  },
  {
   "cell_type": "markdown",
   "metadata": {},
   "source": [
    "### Declaring the functions that we will use"
   ]
  },
  {
   "cell_type": "code",
   "execution_count": null,
   "metadata": {},
   "outputs": [],
   "source": [
    "void MQTT_connect();\n",
    "void init_MPU_sensor();\n",
    "void MPU_sensor();"
   ]
  },
  {
   "cell_type": "markdown",
   "metadata": {},
   "source": [
    "### Setting up the ESP32"
   ]
  },
  {
   "cell_type": "code",
   "execution_count": null,
   "metadata": {},
   "outputs": [],
   "source": [
    "void setup() { \n",
    "  delay(1); \n",
    "  WiFi.mode(WIFI_STA);  \n",
    "  Serial.begin(115200);\n",
    "  Serial.print(\"Connecting to \");\n",
    "  Serial.println(WLAN_SSID);\n",
    "\n",
    "  WiFi.begin(WLAN_SSID, WLAN_PASS);\n",
    "  int i = 0;\n",
    "  for (; i < timeout; i++)\n",
    "  {\n",
    "    if(WiFi.status() == WL_CONNECTED) break;\n",
    "    delay(100);\n",
    "    Serial.print(\".\");\n",
    "  }\n",
    "  if(i == timeout)\n",
    "    Serial.println(\"No Conectado\");\n",
    "\n",
    "  Serial.println(\"IP address: \"); Serial.println(WiFi.localIP());\n",
    "\n",
    "  MQTT_connect();\n",
    "  init_MPU_sensor();\n",
    "}\n"
   ]
  },
  {
   "cell_type": "markdown",
   "metadata": {},
   "source": [
    "### Setting up the Loop\n",
    "Cada vez que realice una ciclo, enviara un juego de valores de aceleraciones al servidor, el cual lo mostrará en el dashboard"
   ]
  },
  {
   "cell_type": "code",
   "execution_count": null,
   "metadata": {},
   "outputs": [],
   "source": [
    "void loop() \n",
    "{\n",
    "  delay(150);/*\n",
    "  int x = random(-10,10);\n",
    "  int y = random(-10,10);\n",
    "  int z = random(-10,10);*/\n",
    "\n",
    "  acelera_x.publish(ax_d);\n",
    "  delay(1);\n",
    "  acelera_y.publish(ay_d);\n",
    "  delay(1);\n",
    "  acelera_z.publish(az_d);\n",
    "\n",
    "  Serial.print(ax_d); Serial.print(\"\\t\");Serial.print(ay_d); Serial.print(\"\\t\");Serial.print(az_d); Serial.println(\"\\t\");\n",
    "  MPU_sensor();\n",
    "\n",
    "}"
   ]
  },
  {
   "cell_type": "markdown",
   "metadata": {},
   "source": [
    "### Functions"
   ]
  },
  {
   "cell_type": "code",
   "execution_count": null,
   "metadata": {},
   "outputs": [],
   "source": [
    "void MQTT_connect() {\n",
    "  int8_t ret;\n",
    "  if (mqtt.connected()) {\n",
    "    return;\n",
    "  }\n",
    "\n",
    "  Serial.print(\"Connecting to MQTT... \");\n",
    "  uint8_t retries = 10;\n",
    "  while ((ret = mqtt.connect()) != 0) { // connect will return 0 for connected\n",
    "       Serial.println(mqtt.connectErrorString(ret));\n",
    "       Serial.println(\"Retrying MQTT connection in 1 second...\");\n",
    "       mqtt.disconnect();\n",
    "       delay(1000);\n",
    "       retries--;\n",
    "       if (retries == 0)\n",
    "         Serial.println(\"No Conectado\");\n",
    "  }\n",
    "  Serial.println(\"MQTT Connected!\");\n",
    "}"
   ]
  },
  {
   "cell_type": "code",
   "execution_count": null,
   "metadata": {},
   "outputs": [],
   "source": [
    "void init_MPU_sensor(){\n",
    "  Wire.begin(SDA, SCL);\n",
    "  Wire.beginTransmission(MPU_addr);\n",
    "  Wire.write(0x6B); // PWR_MGMT_1 register\n",
    "  Wire.write(0); // set to zero (wakes up the MPU-6050)\n",
    "  Wire.endTransmission(true);\n",
    "}"
   ]
  },
  {
   "cell_type": "code",
   "execution_count": null,
   "metadata": {},
   "outputs": [],
   "source": [
    "void MPU_sensor(){\n",
    "  /* Leer las aceleraciones y velocidades angulares\n",
    "  sensor_ang.getAcceleration(&ax, &ay, &az);\n",
    "  sensor_ang.getRotation(&gx, &gy, &gz);\n",
    "  // Correxion de Offsets*/\n",
    "  Wire.beginTransmission(MPU_addr);\n",
    "  Wire.write(0x3B); // starting with register 0x3B (ACCEL_XOUT_H)\n",
    "  Wire.endTransmission(false);\n",
    "  Wire.requestFrom(MPU_addr,14,true); // request a total of 14 registers\n",
    "  ax=Wire.read()<<8|Wire.read(); // 0x3B (ACCEL_XOUT_H) & 0x3C (ACCEL_XOUT_L)\n",
    "  ay=Wire.read()<<8|Wire.read(); // 0x3D (ACCEL_YOUT_H) & 0x3E (ACCEL_YOUT_L)\n",
    "  az=Wire.read()<<8|Wire.read(); // 0x3F (ACCEL_ZOUT_H) & 0x40 (ACCEL_ZOUT_L)\n",
    "  Tmp=Wire.read()<<8|Wire.read(); // 0x41 (TEMP_OUT_H) & 0x42 (TEMP_OUT_L)\n",
    "  gx=Wire.read()<<8|Wire.read(); // 0x43 (GYRO_XOUT_H) & 0x44 (GYRO_XOUT_L)\n",
    "  gy=Wire.read()<<8|Wire.read(); // 0x45 (GYRO_YOUT_H) & 0x46 (GYRO_YOUT_L)\n",
    "  gz=Wire.read()<<8|Wire.read(); // 0x47 (GYRO_ZOUT_H) & 0x48 (GYRO_ZOUT_L)\n",
    "\n",
    "  az_d = az * (9.81/16384.0);\n",
    "  ay_d = ay * (9.81/16384.0);\n",
    "  ax_d = ax * (9.81/16384.0);\n",
    "}"
   ]
  }
 ],
 "metadata": {
  "kernelspec": {
   "display_name": "Python 3",
   "language": "python",
   "name": "python3"
  },
  "language_info": {
   "codemirror_mode": {
    "name": "ipython",
    "version": 3
   },
   "file_extension": ".py",
   "mimetype": "text/x-python",
   "name": "python",
   "nbconvert_exporter": "python",
   "pygments_lexer": "ipython3",
   "version": "3.5.2"
  }
 },
 "nbformat": 4,
 "nbformat_minor": 2
}
